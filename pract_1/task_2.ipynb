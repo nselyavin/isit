{
 "cells": [
  {
   "cell_type": "code",
   "execution_count": 5,
   "id": "initial_id",
   "metadata": {
    "collapsed": true,
    "ExecuteTime": {
     "end_time": "2023-09-24T13:38:37.985032474Z",
     "start_time": "2023-09-24T13:38:37.356324341Z"
    }
   },
   "outputs": [
    {
     "name": "stdout",
     "output_type": "stream",
     "text": [
      "             Date      Time  Transaction           Item\n",
      "0      2016-10-30  09:58:11            1          Bread\n",
      "1      2016-10-30  10:05:34            2   Scandinavian\n",
      "2      2016-10-30  10:05:34            2   Scandinavian\n",
      "3      2016-10-30  10:07:57            3  Hot chocolate\n",
      "4      2016-10-30  10:07:57            3            Jam\n",
      "...           ...       ...          ...            ...\n",
      "21288  2017-04-09  14:32:58         9682         Coffee\n",
      "21289  2017-04-09  14:32:58         9682            Tea\n",
      "21290  2017-04-09  14:57:06         9683         Coffee\n",
      "21291  2017-04-09  14:57:06         9683         Pastry\n",
      "21292  2017-04-09  15:04:24         9684      Smoothies\n",
      "\n",
      "[21293 rows x 4 columns]\n",
      "ok\n"
     ]
    }
   ],
   "source": [
    "import pandas as pd\n",
    "from apriori_python import apriori\n",
    "\n",
    "# itemSetList = [['eggs', 'bacon', 'soup'],\n",
    "#                ['eggs', 'bacon', 'apple'],\n",
    "#                ['soup', 'bacon', 'banana']]\n",
    "# freqItemSet, rules = apriori(itemSetList, minSup=0.5, minConf=0.5)\n",
    "# print(freqItemSet)\n",
    "# print(rules)\n",
    "\n",
    "predata = pd.read_csv('BreadBasket_DMS.csv')\n",
    "print(predata)\n",
    "\n",
    "data = {}\n",
    "\n",
    "for i, row in predata.iterrows():\n",
    "    key = row[\"Transaction\"]\n",
    "    item = row[\"Item\"]\n",
    "    if key not in data:\n",
    "        data[key] = set()\n",
    "\n",
    "    if item != 'NONE':\n",
    "        data[key].add(item)\n",
    "\n",
    "print(\"ok\")\n",
    "\n",
    "data_list = []\n",
    "for v in data.values():\n",
    "    data_list.append(list(v))\n",
    "\n"
   ]
  },
  {
   "cell_type": "code",
   "execution_count": 6,
   "outputs": [
    {
     "name": "stdout",
     "output_type": "stream",
     "text": [
      "\n",
      ">>>> Apriori\n",
      "{1: {frozenset({'Toast'}), frozenset({'Juice'}), frozenset({'Alfajores'}), frozenset({'Brownie'}), frozenset({'Pastry'}), frozenset({'Scandinavian'}), frozenset({'Scone'}), frozenset({'Sandwich'}), frozenset({'Jam'}), frozenset({'Spanish Brunch'}), frozenset({'Chicken Stew'}), frozenset({'Hearty & Seasonal'}), frozenset({'Jammie Dodgers'}), frozenset({'Bread'}), frozenset({'Truffles'}), frozenset({'Tea'}), frozenset({'Salad'}), frozenset({'Cookies'}), frozenset({'Mineral water'}), frozenset({'Coke'}), frozenset({'Medialuna'}), frozenset({'Soup'}), frozenset({'Cake'}), frozenset({'Coffee'}), frozenset({'Farm House'}), frozenset({'Tiffin'}), frozenset({'Baguette'}), frozenset({'Muffin'}), frozenset({'Fudge'}), frozenset({'Hot chocolate'})}, 2: {frozenset({'Coffee', 'Cake'}), frozenset({'Coffee', 'Juice'}), frozenset({'Sandwich', 'Coffee'}), frozenset({'Medialuna', 'Bread'}), frozenset({'Sandwich', 'Tea'}), frozenset({'Alfajores', 'Bread'}), frozenset({'Pastry', 'Bread'}), frozenset({'Brownie', 'Bread'}), frozenset({'Cookies', 'Coffee'}), frozenset({'Sandwich', 'Bread'}), frozenset({'Tea', 'Bread'}), frozenset({'Coffee', 'Hot chocolate'}), frozenset({'Muffin', 'Coffee'}), frozenset({'Coffee', 'Alfajores'}), frozenset({'Pastry', 'Coffee'}), frozenset({'Coffee', 'Brownie'}), frozenset({'Coffee', 'Soup'}), frozenset({'Spanish Brunch', 'Coffee'}), frozenset({'Coffee', 'Medialuna'}), frozenset({'Hot chocolate', 'Bread'}), frozenset({'Cake', 'Bread'}), frozenset({'Coffee', 'Scone'}), frozenset({'Cookies', 'Bread'}), frozenset({'Coffee', 'Bread'}), frozenset({'Cake', 'Tea'}), frozenset({'Coffee', 'Tea'}), frozenset({'Cake', 'Hot chocolate'}), frozenset({'Coffee', 'Toast'})}, 3: {frozenset({'Pastry', 'Coffee', 'Bread'})}}\n",
      "[[{'Coffee'}, {'Spanish Brunch'}, 0.022747349823321553], [{'Coffee'}, {'Pastry', 'Bread'}, 0.023409893992932862], [{'Bread'}, {'Alfajores'}, 0.031643525992896354], [{'Bread'}, {'Brownie'}, 0.03293509848240232], [{'Coffee'}, {'Soup'}, 0.03312720848056537], [{'Bread'}, {'Pastry', 'Coffee'}, 0.0342266709719083], [{'Coffee'}, {'Scone'}, 0.03776501766784452], [{'Coffee'}, {'Muffin'}, 0.03931095406360424], [{'Bread'}, {'Hot chocolate'}, 0.04100742654181466], [{'Coffee'}, {'Alfajores'}, 0.04107773851590106], [{'Coffee'}, {'Brownie'}, 0.04107773851590106], [{'Coffee'}, {'Juice'}, 0.04306537102473498], [{'Bread'}, {'Cookies'}, 0.04423635776557959], [{'Coffee'}, {'Toast'}, 0.04946996466431095], [{'Bread'}, {'Medialuna'}, 0.05166289958023894], [{'Bread'}, {'Sandwich'}, 0.051985792702615434], [{'Coffee'}, {'Cookies'}, 0.05896643109540636], [{'Coffee'}, {'Hot chocolate'}, 0.061837455830388695], [{'Bread'}, {'Cake'}, 0.07135938004520503], [{'Coffee'}, {'Medialuna'}, 0.07354240282685512], [{'Coffee'}, {'Sandwich'}, 0.0799469964664311], [{'Bread'}, {'Tea'}, 0.08588957055214724], [{'Bread'}, {'Pastry'}, 0.08911850177591217], [{'Coffee'}, {'Pastry'}, 0.09938162544169611], [{'Tea'}, {'Sandwich'}, 0.10074074074074074], [{'Coffee'}, {'Tea'}, 0.10424028268551237], [{'Cake'}, {'Hot chocolate'}, 0.10986775178026449], [{'Coffee'}, {'Cake'}, 0.11439929328621908], [{'Coffee', 'Bread'}, {'Pastry'}, 0.12441314553990611], [{'Pastry'}, {'Coffee', 'Bread'}, 0.13006134969325153], [{'Tea'}, {'Cake'}, 0.16666666666666666], [{'Coffee'}, {'Bread'}, 0.1881625441696113], [{'Hot chocolate'}, {'Cake'}, 0.1956521739130435], [{'Tea'}, {'Bread'}, 0.19703703703703704], [{'Sandwich'}, {'Tea'}, 0.2], [{'Cake'}, {'Bread'}, 0.22482197355035605], [{'Cake'}, {'Tea'}, 0.2288911495422177], [{'Hot chocolate'}, {'Bread'}, 0.23007246376811594], [{'Pastry', 'Coffee'}, {'Bread'}, 0.23555555555555555], [{'Sandwich'}, {'Bread'}, 0.23676470588235293], [{'Cookies'}, {'Bread'}, 0.26601941747572816], [{'Brownie'}, {'Bread'}, 0.2691292875989446], [{'Medialuna'}, {'Bread'}, 0.27350427350427353], [{'Bread'}, {'Coffee'}, 0.27510494026477234], [{'Alfajores'}, {'Bread'}, 0.28488372093023256], [{'Pastry'}, {'Bread'}, 0.33865030674846625], [{'Tea'}, {'Coffee'}, 0.3496296296296296], [{'Pastry', 'Bread'}, {'Coffee'}, 0.38405797101449274], [{'Soup'}, {'Coffee'}, 0.4601226993865031], [{'Muffin'}, {'Coffee'}, 0.489010989010989], [{'Brownie'}, {'Coffee'}, 0.49076517150395776], [{'Hot chocolate'}, {'Coffee'}, 0.5072463768115942], [{'Cookies'}, {'Coffee'}, 0.5184466019417475], [{'Scone'}, {'Coffee'}, 0.5229357798165137], [{'Cake'}, {'Coffee'}, 0.5269582909460834], [{'Sandwich'}, {'Coffee'}, 0.5323529411764706], [{'Juice'}, {'Coffee'}, 0.5342465753424658], [{'Alfajores'}, {'Coffee'}, 0.5406976744186046], [{'Pastry'}, {'Coffee'}, 0.5521472392638037], [{'Medialuna'}, {'Coffee'}, 0.5692307692307692], [{'Spanish Brunch'}, {'Coffee'}, 0.5988372093023255], [{'Toast'}, {'Coffee'}, 0.7044025157232704]]\n"
     ]
    }
   ],
   "source": [
    "import time\n",
    "\n",
    "print(\"\\n>>>> Apriori\")\n",
    "apriori_time = time.time()\n",
    "freqItemSet, rules = apriori(data_list, minSup=0.01, minConf=0.01)\n",
    "apriori_time = time.time() - apriori_time \n",
    "print(freqItemSet)\n",
    "print(rules)\n",
    "\n"
   ],
   "metadata": {
    "collapsed": false,
    "ExecuteTime": {
     "end_time": "2023-09-24T13:38:38.599751154Z",
     "start_time": "2023-09-24T13:38:38.006857935Z"
    }
   },
   "id": "e4072a55d23dfff1"
  },
  {
   "cell_type": "code",
   "execution_count": 7,
   "outputs": [
    {
     "name": "stdout",
     "output_type": "stream",
     "text": [
      "\n",
      ">>>> Effiecient apriori\n",
      "{1: {('Bread',): 3097, ('Scandinavian',): 275, ('Jam',): 142, ('Cookies',): 515, ('Hot chocolate',): 552, ('Muffin',): 364, ('Pastry',): 815, ('Coffee',): 4528, ('Medialuna',): 585, ('Tea',): 1350, ('Mineral water',): 134, ('Farm House',): 371, ('Fudge',): 142, ('Juice',): 365, ('Hearty & Seasonal',): 100, ('Soup',): 326, ('Cake',): 983, ('Coke',): 184, ('Sandwich',): 680, ('Alfajores',): 344, ('Brownie',): 379, ('Truffles',): 192, ('Jammie Dodgers',): 125, ('Tiffin',): 146, ('Toast',): 318, ('Scone',): 327, ('Salad',): 99, ('Chicken Stew',): 123, ('Spanish Brunch',): 172, ('Baguette',): 152}, 2: {('Alfajores', 'Bread'): 98, ('Alfajores', 'Coffee'): 186, ('Bread', 'Brownie'): 102, ('Bread', 'Cake'): 221, ('Bread', 'Coffee'): 852, ('Bread', 'Cookies'): 137, ('Bread', 'Hot chocolate'): 127, ('Bread', 'Medialuna'): 160, ('Bread', 'Pastry'): 276, ('Bread', 'Sandwich'): 161, ('Bread', 'Tea'): 266, ('Brownie', 'Coffee'): 186, ('Cake', 'Coffee'): 518, ('Cake', 'Hot chocolate'): 108, ('Cake', 'Tea'): 225, ('Coffee', 'Cookies'): 267, ('Coffee', 'Hot chocolate'): 280, ('Coffee', 'Juice'): 195, ('Coffee', 'Medialuna'): 333, ('Coffee', 'Muffin'): 178, ('Coffee', 'Pastry'): 450, ('Coffee', 'Sandwich'): 362, ('Coffee', 'Scone'): 171, ('Coffee', 'Soup'): 150, ('Coffee', 'Spanish Brunch'): 103, ('Coffee', 'Tea'): 472, ('Coffee', 'Toast'): 224, ('Sandwich', 'Tea'): 136}, 3: {('Bread', 'Coffee', 'Pastry'): 106}}\n",
      "[{Bread} -> {Alfajores}, {Alfajores} -> {Bread}, {Coffee} -> {Alfajores}, {Alfajores} -> {Coffee}, {Brownie} -> {Bread}, {Bread} -> {Brownie}, {Cake} -> {Bread}, {Bread} -> {Cake}, {Coffee} -> {Bread}, {Bread} -> {Coffee}, {Cookies} -> {Bread}, {Bread} -> {Cookies}, {Hot chocolate} -> {Bread}, {Bread} -> {Hot chocolate}, {Medialuna} -> {Bread}, {Bread} -> {Medialuna}, {Pastry} -> {Bread}, {Bread} -> {Pastry}, {Sandwich} -> {Bread}, {Bread} -> {Sandwich}, {Tea} -> {Bread}, {Bread} -> {Tea}, {Coffee} -> {Brownie}, {Brownie} -> {Coffee}, {Coffee} -> {Cake}, {Cake} -> {Coffee}, {Hot chocolate} -> {Cake}, {Cake} -> {Hot chocolate}, {Tea} -> {Cake}, {Cake} -> {Tea}, {Cookies} -> {Coffee}, {Coffee} -> {Cookies}, {Hot chocolate} -> {Coffee}, {Coffee} -> {Hot chocolate}, {Juice} -> {Coffee}, {Coffee} -> {Juice}, {Medialuna} -> {Coffee}, {Coffee} -> {Medialuna}, {Muffin} -> {Coffee}, {Coffee} -> {Muffin}, {Pastry} -> {Coffee}, {Coffee} -> {Pastry}, {Sandwich} -> {Coffee}, {Coffee} -> {Sandwich}, {Scone} -> {Coffee}, {Coffee} -> {Scone}, {Soup} -> {Coffee}, {Coffee} -> {Soup}, {Spanish Brunch} -> {Coffee}, {Coffee} -> {Spanish Brunch}, {Tea} -> {Coffee}, {Coffee} -> {Tea}, {Toast} -> {Coffee}, {Coffee} -> {Toast}, {Tea} -> {Sandwich}, {Sandwich} -> {Tea}, {Coffee, Pastry} -> {Bread}, {Bread, Pastry} -> {Coffee}, {Bread, Coffee} -> {Pastry}, {Pastry} -> {Bread, Coffee}, {Coffee} -> {Bread, Pastry}, {Bread} -> {Coffee, Pastry}]\n"
     ]
    }
   ],
   "source": [
    "from efficient_apriori import apriori as ef_ap\n",
    "ef_apriori_time = time.time()\n",
    "item_set, rules = ef_ap(data_list, min_support=0.01, min_confidence=0.01)\n",
    "ef_apriori_time = time.time() - ef_apriori_time\n",
    "print(\"\\n>>>> Effiecient apriori\")\n",
    "print(item_set)\n",
    "print(rules)\n",
    "\n"
   ],
   "metadata": {
    "collapsed": false,
    "ExecuteTime": {
     "end_time": "2023-09-24T13:38:38.609715073Z",
     "start_time": "2023-09-24T13:38:38.607577523Z"
    }
   },
   "id": "67e48832dd89b18"
  },
  {
   "cell_type": "code",
   "execution_count": 8,
   "outputs": [
    {
     "name": "stdout",
     "output_type": "stream",
     "text": [
      "\n",
      ">>>> Fpgrowth\n",
      "[{'Salad'}, {'Hearty & Seasonal'}, {'Chicken Stew'}, {'Jammie Dodgers'}, {'Mineral water'}, {'Jam'}, {'Fudge'}, {'Tiffin'}, {'Baguette'}, {'Spanish Brunch'}, {'Spanish Brunch', 'Coffee'}, {'Coke'}, {'Truffles'}, {'Scandinavian'}, {'Toast'}, {'Coffee', 'Toast'}, {'Soup'}, {'Coffee', 'Soup'}, {'Scone'}, {'Coffee', 'Scone'}, {'Alfajores'}, {'Alfajores', 'Bread'}, {'Coffee', 'Alfajores'}, {'Muffin'}, {'Muffin', 'Coffee'}, {'Juice'}, {'Coffee', 'Juice'}, {'Farm House'}, {'Brownie'}, {'Brownie', 'Bread'}, {'Coffee', 'Brownie'}, {'Cookies'}, {'Cookies', 'Bread'}, {'Cookies', 'Coffee'}, {'Hot chocolate'}, {'Cake', 'Hot chocolate'}, {'Hot chocolate', 'Bread'}, {'Coffee', 'Hot chocolate'}, {'Medialuna'}, {'Bread', 'Medialuna'}, {'Coffee', 'Medialuna'}, {'Sandwich'}, {'Sandwich', 'Tea'}, {'Sandwich', 'Bread'}, {'Sandwich', 'Coffee'}, {'Pastry'}, {'Pastry', 'Bread'}, {'Pastry', 'Coffee', 'Bread'}, {'Pastry', 'Coffee'}, {'Cake'}, {'Cake', 'Bread'}, {'Cake', 'Tea'}, {'Coffee', 'Cake'}, {'Tea'}, {'Tea', 'Bread'}, {'Coffee', 'Tea'}, {'Bread'}, {'Coffee', 'Bread'}, {'Coffee'}]\n",
      "[[{'Spanish Brunch'}, {'Coffee'}, 0.5988372093023255], [{'Coffee'}, {'Spanish Brunch'}, 0.022747349823321553], [{'Coffee'}, {'Toast'}, 0.04946996466431095], [{'Toast'}, {'Coffee'}, 0.7044025157232704], [{'Coffee'}, {'Soup'}, 0.03312720848056537], [{'Soup'}, {'Coffee'}, 0.4601226993865031], [{'Coffee'}, {'Scone'}, 0.03776501766784452], [{'Scone'}, {'Coffee'}, 0.5229357798165137], [{'Alfajores'}, {'Bread'}, 0.28488372093023256], [{'Bread'}, {'Alfajores'}, 0.031643525992896354], [{'Coffee'}, {'Alfajores'}, 0.04107773851590106], [{'Alfajores'}, {'Coffee'}, 0.5406976744186046], [{'Muffin'}, {'Coffee'}, 0.489010989010989], [{'Coffee'}, {'Muffin'}, 0.03931095406360424], [{'Coffee'}, {'Juice'}, 0.04306537102473498], [{'Juice'}, {'Coffee'}, 0.5342465753424658], [{'Brownie'}, {'Bread'}, 0.2691292875989446], [{'Bread'}, {'Brownie'}, 0.03293509848240232], [{'Coffee'}, {'Brownie'}, 0.04107773851590106], [{'Brownie'}, {'Coffee'}, 0.49076517150395776], [{'Cookies'}, {'Bread'}, 0.26601941747572816], [{'Bread'}, {'Cookies'}, 0.04423635776557959], [{'Cookies'}, {'Coffee'}, 0.5184466019417475], [{'Coffee'}, {'Cookies'}, 0.05896643109540636], [{'Cake'}, {'Hot chocolate'}, 0.10986775178026449], [{'Hot chocolate'}, {'Cake'}, 0.1956521739130435], [{'Hot chocolate'}, {'Bread'}, 0.23007246376811594], [{'Bread'}, {'Hot chocolate'}, 0.04100742654181466], [{'Coffee'}, {'Hot chocolate'}, 0.061837455830388695], [{'Hot chocolate'}, {'Coffee'}, 0.5072463768115942], [{'Bread'}, {'Medialuna'}, 0.05166289958023894], [{'Medialuna'}, {'Bread'}, 0.27350427350427353], [{'Coffee'}, {'Medialuna'}, 0.07354240282685512], [{'Medialuna'}, {'Coffee'}, 0.5692307692307692], [{'Sandwich'}, {'Tea'}, 0.2], [{'Tea'}, {'Sandwich'}, 0.10074074074074074], [{'Sandwich'}, {'Bread'}, 0.23676470588235293], [{'Bread'}, {'Sandwich'}, 0.051985792702615434], [{'Sandwich'}, {'Coffee'}, 0.5323529411764706], [{'Coffee'}, {'Sandwich'}, 0.0799469964664311], [{'Pastry'}, {'Bread'}, 0.33865030674846625], [{'Bread'}, {'Pastry'}, 0.08911850177591217], [{'Pastry'}, {'Coffee', 'Bread'}, 0.13006134969325153], [{'Coffee'}, {'Pastry', 'Bread'}, 0.023409893992932862], [{'Bread'}, {'Pastry', 'Coffee'}, 0.0342266709719083], [{'Pastry', 'Coffee'}, {'Bread'}, 0.23555555555555555], [{'Pastry', 'Bread'}, {'Coffee'}, 0.38405797101449274], [{'Coffee', 'Bread'}, {'Pastry'}, 0.12441314553990611], [{'Pastry'}, {'Coffee'}, 0.5521472392638037], [{'Coffee'}, {'Pastry'}, 0.09938162544169611], [{'Cake'}, {'Bread'}, 0.22482197355035605], [{'Bread'}, {'Cake'}, 0.07135938004520503], [{'Cake'}, {'Tea'}, 0.2288911495422177], [{'Tea'}, {'Cake'}, 0.16666666666666666], [{'Coffee'}, {'Cake'}, 0.11439929328621908], [{'Cake'}, {'Coffee'}, 0.5269582909460834], [{'Tea'}, {'Bread'}, 0.19703703703703704], [{'Bread'}, {'Tea'}, 0.08588957055214724], [{'Coffee'}, {'Tea'}, 0.10424028268551237], [{'Tea'}, {'Coffee'}, 0.3496296296296296], [{'Coffee'}, {'Bread'}, 0.1881625441696113], [{'Bread'}, {'Coffee'}, 0.27510494026477234]]\n",
      "End\n"
     ]
    }
   ],
   "source": [
    "from fpgrowth_py import fpgrowth\n",
    "fpgrowth_time = time.time()\n",
    "item_set, rules = fpgrowth(data_list, minSupRatio=0.01, minConf=0.01)\n",
    "fpgrowth_time = time.time() - fpgrowth_time\n",
    "print(\"\\n>>>> Fpgrowth\")\n",
    "print(item_set)\n",
    "print(rules)\n",
    "\n",
    "print(\"End\")"
   ],
   "metadata": {
    "collapsed": false,
    "ExecuteTime": {
     "end_time": "2023-09-24T13:38:38.869989842Z",
     "start_time": "2023-09-24T13:38:38.610667761Z"
    }
   },
   "id": "96801cd67f36cbca"
  },
  {
   "cell_type": "code",
   "execution_count": 13,
   "outputs": [
    {
     "data": {
      "text/plain": "<Figure size 640x480 with 1 Axes>",
      "image/png": "[encoded data removed]"
     },
     "metadata": {},
     "output_type": "display_data"
    }
   ],
   "source": [
    "# graph\n",
    "\n",
    "import matplotlib.pyplot as plt\n",
    "\n",
    "df = pd.DataFrame({'algorithm':[\"apriori\", \"ef apriori\", \"fpgrowth\"], 'time ms':[apriori_time, ef_apriori_time, fpgrowth_time]})\n",
    "ax = df.plot.bar(x=\"algorithm\", y='time ms', rot=0)"
   ],
   "metadata": {
    "collapsed": false,
    "ExecuteTime": {
     "end_time": "2023-09-24T13:39:29.913907888Z",
     "start_time": "2023-09-24T13:39:29.724016429Z"
    }
   },
   "id": "94271fd55d3a3d6f"
  }
 ],
 "metadata": {
  "kernelspec": {
   "display_name": "Python 3",
   "language": "python",
   "name": "python3"
  },
  "language_info": {
   "codemirror_mode": {
    "name": "ipython",
    "version": 2
   },
   "file_extension": ".py",
   "mimetype": "text/x-python",
   "name": "python",
   "nbconvert_exporter": "python",
   "pygments_lexer": "ipython2",
   "version": "2.7.6"
  }
 },
 "nbformat": 4,
 "nbformat_minor": 5
}
