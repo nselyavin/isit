{
 "cells": [
  {
   "cell_type": "code",
   "execution_count": 1,
   "metadata": {
    "ExecuteTime": {
     "end_time": "2023-09-24T13:25:53.940624560Z",
     "start_time": "2023-09-24T13:25:53.597097129Z"
    }
   },
   "outputs": [
    {
     "name": "stdout",
     "output_type": "stream",
     "text": [
      "    id         items\n",
      "0    1      Акустика\n",
      "1    1    Клавиатура\n",
      "2    1     Материнка\n",
      "3    2      Акустика\n",
      "4    2  Жесткий диск\n",
      "5    2       Геймпад\n",
      "6    3         Мышка\n",
      "7    3      Акустика\n",
      "8    4    Клавиатура\n",
      "9    4  Жесткий диск\n",
      "10   4  Блок питания\n",
      "11   5  Жесткий диск\n",
      "12   5  Блок питания\n",
      "13   6       Монитор\n",
      "14   6    Клавиатура\n",
      "15   6      Акустика\n",
      "16   7    Клавиатура\n",
      "17   8       Геймпад\n",
      "18   8  Жесткий диск\n",
      "19   8         Мышка\n",
      "20   9  Жесткий диск\n",
      "21   9         Мышка\n",
      "22   9      Акустика\n",
      "23  10         Мышка\n",
      "24  10  Блок питания\n",
      "25  10       Геймпад\n",
      "26  10    Клавиатура\n",
      "27  11  Жесткий диск\n",
      "28  11  Блок питания\n",
      "29  11       Монитор\n",
      "30  11       Геймпад\n",
      "31  12       Геймпад\n",
      "32  12         Мышка\n",
      "33  13         Мышка\n",
      "34  13     Материнка\n",
      "35  13  Жесткий диск\n",
      "36  14    Клавиатура\n",
      "37  14         Мышка\n",
      "38  14  Жесткий диск\n",
      "39  14     Материнка\n",
      "40  15       Геймпад\n",
      "41  15       Жесткий\n",
      "42  15          диск\n",
      "43  15     Материнка\n",
      "44  16     Материнка\n",
      "45  16         Мышка\n",
      "46  16       Монитор\n",
      "47  17  Жесткий диск\n",
      "48  17    Клавиатура\n",
      "49  17         Мышка\n",
      "50  18    Клавиатура\n",
      "51  18     Материнка\n",
      "52  18         Мышка\n",
      "53  18      Акустика\n",
      "54  19  Блок питания\n",
      "55  19         Мышка\n",
      "56  19      Акустика\n",
      "57  20      Акустика\n",
      "58  20  Блок питания\n",
      "ok\n"
     ]
    }
   ],
   "source": [
    "import pandas as pd\n",
    "from apriori_python import apriori\n",
    "\n",
    "# itemSetList = [['eggs', 'bacon', 'soup'],\n",
    "#                ['eggs', 'bacon', 'apple'],\n",
    "#                ['soup', 'bacon', 'banana']]\n",
    "# freqItemSet, rules = apriori(itemSetList, minSup=0.5, minConf=0.5)\n",
    "# print(freqItemSet)\n",
    "# print(rules)\n",
    "\n",
    "predata = pd.read_csv('isit_1.csv')\n",
    "print(predata)\n",
    "\n",
    "data = {}\n",
    "\n",
    "for i, row in predata.iterrows():\n",
    "    key = row[\"id\"]\n",
    "    item = row[\"items\"]\n",
    "    if key not in data:\n",
    "        data[key] = set()\n",
    "    \n",
    "    data[key].add(item)\n",
    "\n",
    "print(\"ok\")\n",
    "\n",
    "data_list = []\n",
    "for v in data.values():\n",
    "    data_list.append(list(v))\n",
    "\n"
   ]
  },
  {
   "cell_type": "code",
   "execution_count": 2,
   "metadata": {
    "ExecuteTime": {
     "end_time": "2023-09-24T13:25:56.052062258Z",
     "start_time": "2023-09-24T13:25:56.019807262Z"
    }
   },
   "outputs": [
    {
     "name": "stdout",
     "output_type": "stream",
     "text": [
      "\n",
      ">>>> Apriori\n",
      "{1: {frozenset({'Материнка'}), frozenset({'Геймпад'}), frozenset({'Мышка'}), frozenset({'Акустика'}), frozenset({'Жесткий диск'}), frozenset({'Клавиатура'}), frozenset({'Блок питания'})}, 2: {frozenset({'Мышка', 'Жесткий диск'}), frozenset({'Мышка', 'Акустика'}), frozenset({'Клавиатура', 'Мышка'}), frozenset({'Материнка', 'Мышка'})}}\n",
      "[[{'Мышка'}, {'Акустика'}, 0.36363636363636365], [{'Мышка'}, {'Клавиатура'}, 0.36363636363636365], [{'Мышка'}, {'Материнка'}, 0.36363636363636365], [{'Мышка'}, {'Жесткий диск'}, 0.45454545454545453], [{'Акустика'}, {'Мышка'}, 0.5], [{'Клавиатура'}, {'Мышка'}, 0.5], [{'Жесткий диск'}, {'Мышка'}, 0.5555555555555556], [{'Материнка'}, {'Мышка'}, 0.6666666666666666]]\n"
     ]
    }
   ],
   "source": [
    "print(\"\\n>>>> Apriori\")\n",
    "freqItemSet, rules = apriori(data_list, minSup=0.2, minConf=0.2)\n",
    "print(freqItemSet)\n",
    "print(rules)\n"
   ]
  },
  {
   "cell_type": "code",
   "execution_count": 3,
   "metadata": {
    "ExecuteTime": {
     "end_time": "2023-09-24T13:25:59.867371689Z",
     "start_time": "2023-09-24T13:25:59.854175369Z"
    }
   },
   "outputs": [
    {
     "name": "stdout",
     "output_type": "stream",
     "text": [
      "\n",
      ">>>> Effiecient apriori\n",
      "{1: {('Материнка',): 6, ('Клавиатура',): 8, ('Акустика',): 8, ('Геймпад',): 6, ('Жесткий диск',): 9, ('Мышка',): 11, ('Блок питания',): 6}, 2: {('Акустика', 'Мышка'): 4, ('Жесткий диск', 'Мышка'): 5, ('Клавиатура', 'Мышка'): 4, ('Материнка', 'Мышка'): 4}}\n",
      "[{Мышка} -> {Акустика}, {Акустика} -> {Мышка}, {Мышка} -> {Жесткий диск}, {Жесткий диск} -> {Мышка}, {Мышка} -> {Клавиатура}, {Клавиатура} -> {Мышка}, {Мышка} -> {Материнка}, {Материнка} -> {Мышка}]\n"
     ]
    }
   ],
   "source": [
    "from efficient_apriori import apriori as ef_ap\n",
    "item_set, rules = ef_ap(data_list, min_support=0.2, min_confidence=0.2)\n",
    "print(\"\\n>>>> Effiecient apriori\")\n",
    "print(item_set)\n",
    "print(rules)  \n"
   ]
  },
  {
   "cell_type": "code",
   "execution_count": 4,
   "metadata": {
    "ExecuteTime": {
     "end_time": "2023-09-24T13:26:01.971931559Z",
     "start_time": "2023-09-24T13:26:01.951108866Z"
    }
   },
   "outputs": [
    {
     "name": "stdout",
     "output_type": "stream",
     "text": [
      "\n",
      ">>>> Fpgrowth\n",
      "[{'Материнка'}, {'Материнка', 'Мышка'}, {'Геймпад'}, {'Блок питания'}, {'Клавиатура'}, {'Клавиатура', 'Мышка'}, {'Акустика'}, {'Мышка', 'Акустика'}, {'Жесткий диск'}, {'Мышка', 'Жесткий диск'}, {'Мышка'}]\n",
      "[[{'Материнка'}, {'Мышка'}, 0.6666666666666666], [{'Мышка'}, {'Материнка'}, 0.36363636363636365], [{'Клавиатура'}, {'Мышка'}, 0.5], [{'Мышка'}, {'Клавиатура'}, 0.36363636363636365], [{'Мышка'}, {'Акустика'}, 0.36363636363636365], [{'Акустика'}, {'Мышка'}, 0.5], [{'Мышка'}, {'Жесткий диск'}, 0.45454545454545453], [{'Жесткий диск'}, {'Мышка'}, 0.5555555555555556]]\n",
      "End\n"
     ]
    }
   ],
   "source": [
    "from fpgrowth_py import fpgrowth\n",
    "item_set, rules = fpgrowth(data_list, minSupRatio=0.2, minConf=0.2)\n",
    "print(\"\\n>>>> Fpgrowth\")\n",
    "print(item_set)\n",
    "print(rules)\n",
    "\n",
    "print(\"End\")"
   ]
  },
  {
   "cell_type": "code",
   "execution_count": null,
   "outputs": [],
   "source": [],
   "metadata": {
    "collapsed": false
   }
  }
 ],
 "metadata": {
  "kernelspec": {
   "display_name": "Python 3",
   "language": "python",
   "name": "python3"
  },
  "language_info": {
   "name": "python",
   "version": "3.10.13"
  },
  "orig_nbformat": 4
 },
 "nbformat": 4,
 "nbformat_minor": 2
}
